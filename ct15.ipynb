{
 "cells": [
  {
   "cell_type": "markdown",
   "id": "f07add3d",
   "metadata": {},
   "source": [
    "### 타이타닉 구명 보트 개수\n",
    "- 그리드 코딩 : 그때그때 최선의 선택 -> 로컬 옵티멀 포인트 문제 발생 가능성 있음"
   ]
  },
  {
   "cell_type": "code",
   "execution_count": 2,
   "id": "3ed00e86",
   "metadata": {},
   "outputs": [
    {
     "data": {
      "text/plain": [
       "3"
      ]
     },
     "execution_count": 2,
     "metadata": {},
     "output_type": "execute_result"
    }
   ],
   "source": [
    "def solution(nums, m) : \n",
    "    nums.sort()\n",
    "    \n",
    "    answer = 0\n",
    "    left = 0 \n",
    "    right = len(nums) - 1 \n",
    "    while left <= right : \n",
    "            if nums[left] + nums[right] <= m : \n",
    "                answer += 1\n",
    "                left += 1\n",
    "                right -= 1\n",
    "            \n",
    "            else :\n",
    "                answer += 1\n",
    "                right -= 1\n",
    "                \n",
    "    return answer\n",
    "\n",
    "solution([90, 50, 70, 100, 60], 140)"
   ]
  }
 ],
 "metadata": {
  "kernelspec": {
   "display_name": "Python 3 (ipykernel)",
   "language": "python",
   "name": "python3"
  },
  "language_info": {
   "codemirror_mode": {
    "name": "ipython",
    "version": 3
   },
   "file_extension": ".py",
   "mimetype": "text/x-python",
   "name": "python",
   "nbconvert_exporter": "python",
   "pygments_lexer": "ipython3",
   "version": "3.8.13"
  }
 },
 "nbformat": 4,
 "nbformat_minor": 5
}
