{
 "cells": [
  {
   "cell_type": "markdown",
   "id": "b27e5977",
   "metadata": {},
   "source": [
    "### 부분수열\n",
    "- 투포인트 : 움직이는 슬라이딩 윈도우\n",
    "\n",
    "자연수로 이루어진 수열이 주어집니다.\n",
    "이 수열에서 부분수열의 합이 특정숫자 m이 되는 경우가 몇 번 있는지 알고 싶습니다.\n",
    "만약 m =6 이고 수열이 다음과 같다면 [1, 1, 2, 1, 3, 1, 1, 1, 2],\n",
    "합이 이 되는 부분수열은 {2, 1, 3}, {1, 3, 1, 1}, {3, 1, 1, 1}로 총 3가지입니다.\n",
    "매개변수 nums에 수열이 주어지고 이 주어지면 부분수열의 합이 m이 되는 경우의 수를 반환하는 프로그램을 작성하세요"
   ]
  },
  {
   "cell_type": "code",
   "execution_count": 2,
   "id": "010af50b",
   "metadata": {},
   "outputs": [
    {
     "data": {
      "text/plain": [
       "3"
      ]
     },
     "execution_count": 2,
     "metadata": {},
     "output_type": "execute_result"
    }
   ],
   "source": [
    "def solution(nums, m) : \n",
    "    left = 0\n",
    "    sumN = 0\n",
    "    answer = 0\n",
    "    for right in range(len(nums)) :\n",
    "        sumN += nums[right]\n",
    "        while sumN > m :\n",
    "            sumN -= nums[left]\n",
    "            left += 1\n",
    "        if sumN == m :\n",
    "            answer += 1\n",
    "    \n",
    "    return answer\n",
    "\n",
    "solution([1, 1, 2, 1, 3, 1, 1, 1, 2], 6)"
   ]
  },
  {
   "cell_type": "code",
   "execution_count": 3,
   "id": "30d5106e",
   "metadata": {},
   "outputs": [],
   "source": [
    "### 살짝 변형한 문제 "
   ]
  },
  {
   "cell_type": "code",
   "execution_count": 5,
   "id": "02fd5ce4",
   "metadata": {},
   "outputs": [
    {
     "data": {
      "text/plain": [
       "5"
      ]
     },
     "execution_count": 5,
     "metadata": {},
     "output_type": "execute_result"
    }
   ],
   "source": [
    "def solution(nums, m) : \n",
    "    left = 0\n",
    "    sumN = 0\n",
    "    answer = 0\n",
    "    \n",
    "    for right in range(len(nums)) :\n",
    "        sumN += nums[right]\n",
    "        while sumN > m :\n",
    "            sumN -= nums[left]\n",
    "            left += 1\n",
    "    \n",
    "        answer = max(answer, right - left + 1)\n",
    "    \n",
    "    return answer\n",
    "\n",
    "solution([0, 150, 100, 0, 150, 0, 70, 140], 350)"
   ]
  },
  {
   "cell_type": "code",
   "execution_count": null,
   "id": "2e09b68e",
   "metadata": {},
   "outputs": [],
   "source": []
  }
 ],
 "metadata": {
  "kernelspec": {
   "display_name": "Python 3 (ipykernel)",
   "language": "python",
   "name": "python3"
  },
  "language_info": {
   "codemirror_mode": {
    "name": "ipython",
    "version": 3
   },
   "file_extension": ".py",
   "mimetype": "text/x-python",
   "name": "python",
   "nbconvert_exporter": "python",
   "pygments_lexer": "ipython3",
   "version": "3.8.13"
  }
 },
 "nbformat": 4,
 "nbformat_minor": 5
}
