{
  "cells": [
    {
      "cell_type": "markdown",
      "metadata": {
        "id": "view-in-github",
        "colab_type": "text"
      },
      "source": [
        "<a href=\"https://colab.research.google.com/github/cswcjt/CodingTest_study/blob/main/ct28.ipynb\" target=\"_parent\"><img src=\"https://colab.research.google.com/assets/colab-badge.svg\" alt=\"Open In Colab\"/></a>"
      ]
    },
    {
      "cell_type": "markdown",
      "id": "4a1ed0db",
      "metadata": {
        "id": "4a1ed0db"
      },
      "source": [
        "### 중복 순열\n",
        "매개변수 n, k에 자연수가 입력되면 1부터 n까지의 경우의 수 리턴"
      ]
    },
    {
      "cell_type": "code",
      "execution_count": null,
      "id": "c00adee6",
      "metadata": {
        "id": "c00adee6"
      },
      "outputs": [],
      "source": [
        "def DFS(L, n, k, p) : # L : if문을 위한 변수, n = 3, k = 2, p = 빈 리스트\n",
        "    if L == k :\n",
        "        for x in p : \n",
        "            print(x, end = ' ')\n",
        "        print()\n",
        "    else : \n",
        "        for i in range(1, n + 1) : \n",
        "            #print(f\"i: {i}\")\n",
        "            p.append(i)\n",
        "            #print(p)\n",
        "            #print(f\"recursive {i}th\")\n",
        "            DFS(L + 1, n, k, p) # 9라인\n",
        "            #print(f\"recursive {i}th\")\n",
        "            p.pop()"
      ]
    },
    {
      "cell_type": "code",
      "execution_count": null,
      "id": "855b9f8e",
      "metadata": {
        "id": "855b9f8e",
        "outputId": "c4e6c7d8-47eb-4434-b997-35820a2a5a9e"
      },
      "outputs": [
        {
          "name": "stdout",
          "output_type": "stream",
          "text": [
            "1 1 \n",
            "1 2 \n",
            "1 3 \n",
            "2 1 \n",
            "2 2 \n",
            "2 3 \n",
            "3 1 \n",
            "3 2 \n",
            "3 3 \n"
          ]
        }
      ],
      "source": [
        "DFS(0,3,2,[])"
      ]
    }
  ],
  "metadata": {
    "kernelspec": {
      "display_name": "Python 3 (ipykernel)",
      "language": "python",
      "name": "python3"
    },
    "language_info": {
      "codemirror_mode": {
        "name": "ipython",
        "version": 3
      },
      "file_extension": ".py",
      "mimetype": "text/x-python",
      "name": "python",
      "nbconvert_exporter": "python",
      "pygments_lexer": "ipython3",
      "version": "3.8.13"
    },
    "colab": {
      "provenance": [],
      "include_colab_link": true
    }
  },
  "nbformat": 4,
  "nbformat_minor": 5
}