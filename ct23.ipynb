{
 "cells": [
  {
   "cell_type": "code",
   "execution_count": 1,
   "id": "a9cba922",
   "metadata": {},
   "outputs": [],
   "source": [
    "from IPython.display import Image"
   ]
  },
  {
   "cell_type": "markdown",
   "id": "b4036aa5",
   "metadata": {},
   "source": [
    "### 그래프\n",
    "• 그래프는 G(V, E)로 정의하고, V(Vertext : 정점)과 E(Edge : 간선) 의 집합을 의미한다.\n",
    "\n",
    "\n",
    "• 연결되어 있는 원소들간의 관계를 표현하는 자료구조이다."
   ]
  },
  {
   "cell_type": "markdown",
   "id": "30dc695e",
   "metadata": {},
   "source": [
    "##### 1. 인접행렬 : 배열을 이용해 그래프를 표현하는 방법"
   ]
  },
  {
   "cell_type": "code",
   "execution_count": 3,
   "id": "70a8b4d2",
   "metadata": {},
   "outputs": [
    {
     "data": {
      "text/plain": [
       "[[0, 0, 0, 0, 0, 0],\n",
       " [0, 0, 0, 0, 0, 0],\n",
       " [0, 0, 0, 0, 0, 0],\n",
       " [0, 0, 0, 0, 0, 0],\n",
       " [0, 0, 0, 0, 0, 0],\n",
       " [0, 0, 0, 0, 0, 0]]"
      ]
     },
     "execution_count": 3,
     "metadata": {},
     "output_type": "execute_result"
    }
   ],
   "source": [
    "n = 5\n",
    "graph = [[0]*(n + 1) for _ in range(n + 1)] \n",
    "graph"
   ]
  },
  {
   "cell_type": "code",
   "execution_count": 4,
   "id": "0fa26abb",
   "metadata": {},
   "outputs": [
    {
     "data": {
      "text/plain": [
       "[[0, 0, 0, 0, 0, 0],\n",
       " [0, 0, 1, 1, 0, 0],\n",
       " [0, 1, 0, 0, 1, 1],\n",
       " [0, 1, 0, 0, 1, 0],\n",
       " [0, 0, 1, 1, 0, 0],\n",
       " [0, 0, 1, 0, 0, 0]]"
      ]
     },
     "execution_count": 4,
     "metadata": {},
     "output_type": "execute_result"
    }
   ],
   "source": [
    "edge = [[1, 2], [1, 3], [2, 4], [2, 5], [3, 4]]\n",
    "for a,b in edge : \n",
    "    graph[a][b] = 1\n",
    "    graph[b][a] = 1\n",
    "    \n",
    "graph"
   ]
  },
  {
   "cell_type": "code",
   "execution_count": null,
   "id": "9142eec9",
   "metadata": {},
   "outputs": [],
   "source": []
  }
 ],
 "metadata": {
  "kernelspec": {
   "display_name": "Python 3 (ipykernel)",
   "language": "python",
   "name": "python3"
  },
  "language_info": {
   "codemirror_mode": {
    "name": "ipython",
    "version": 3
   },
   "file_extension": ".py",
   "mimetype": "text/x-python",
   "name": "python",
   "nbconvert_exporter": "python",
   "pygments_lexer": "ipython3",
   "version": "3.8.13"
  }
 },
 "nbformat": 4,
 "nbformat_minor": 5
}
