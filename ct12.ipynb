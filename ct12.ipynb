{
 "cells": [
  {
   "cell_type": "markdown",
   "id": "d93e8199",
   "metadata": {},
   "source": [
    "### Queue 자료구조\n",
    "1. 큐의 개념\n",
    "\n",
    "\n",
    "한 쪽 끝에서 자료가 삽입되고, 반대쪽 끝에서 자료가 삭제되는 FIFO(First In First Out) 형식의 자료 구조이다. \n",
    "즉, 먼저 추가한 항목이 가장 먼저 제거되는 자료구조이다. \n",
    "\n",
    "2. 큐의 연산\n",
    "\n",
    "\n",
    "1) append(item) : item 하나를 큐의 뒷 부분에 추가한다.\n",
    "\n",
    "\n",
    "2) popleft() ; 큐에 가장 앞에 있는(왼쪽부터) 항목을 제거하고 반환한다."
   ]
  },
  {
   "cell_type": "markdown",
   "id": "1cf800ff",
   "metadata": {},
   "source": [
    "### 공주 구하기"
   ]
  },
  {
   "cell_type": "code",
   "execution_count": 7,
   "id": "0de59197",
   "metadata": {},
   "outputs": [],
   "source": [
    "import collections \n",
    "# double-ended queue(deque) : 양방향에서 데이터를 처리할 수 있는 queue형 자료구조\n",
    "# deque method : appendleft, extendleft, popleft, \n",
    "\n",
    "def solution(n, k) :\n",
    "    prince = list(range(1, n + 1))\n",
    "    queue = collections.deque(prince)\n",
    "    #print(queue)\n",
    "    while len(queue) != 1 : \n",
    "        for i in range(k-1) : # k가 아닌 경우에는\n",
    "            queue.append(queue.popleft()) # 앞에서 꺼내서 뒤에 다 넣는다.\n",
    "            pass\n",
    "        else : \n",
    "            queue.popleft() # k인 경우에는\n",
    "            #print(queue) # 앞에서부터 꺼낸다. \n",
    "\n",
    "    return queue[0]"
   ]
  },
  {
   "cell_type": "code",
   "execution_count": 8,
   "id": "e19e512a",
   "metadata": {},
   "outputs": [
    {
     "data": {
      "text/plain": [
       "7"
      ]
     },
     "execution_count": 8,
     "metadata": {},
     "output_type": "execute_result"
    }
   ],
   "source": [
    "solution(8, 3)"
   ]
  },
  {
   "cell_type": "code",
   "execution_count": null,
   "id": "22df1958",
   "metadata": {},
   "outputs": [],
   "source": []
  }
 ],
 "metadata": {
  "kernelspec": {
   "display_name": "Python 3 (ipykernel)",
   "language": "python",
   "name": "python3"
  },
  "language_info": {
   "codemirror_mode": {
    "name": "ipython",
    "version": 3
   },
   "file_extension": ".py",
   "mimetype": "text/x-python",
   "name": "python",
   "nbconvert_exporter": "python",
   "pygments_lexer": "ipython3",
   "version": "3.8.13"
  }
 },
 "nbformat": 4,
 "nbformat_minor": 5
}
