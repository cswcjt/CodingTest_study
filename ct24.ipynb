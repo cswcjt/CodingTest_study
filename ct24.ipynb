{
 "cells": [
  {
   "cell_type": "markdown",
   "id": "bb5b53f4",
   "metadata": {},
   "source": [
    "##### 2. 방향 그래프"
   ]
  },
  {
   "cell_type": "code",
   "execution_count": 1,
   "id": "4d9759f8",
   "metadata": {},
   "outputs": [
    {
     "data": {
      "text/plain": [
       "[[0, 0, 0, 0, 0, 0],\n",
       " [0, 0, 1, 1, 0, 0],\n",
       " [0, 0, 0, 0, 1, 1],\n",
       " [0, 0, 0, 0, 1, 0],\n",
       " [0, 0, 0, 0, 0, 0],\n",
       " [0, 0, 0, 0, 0, 0]]"
      ]
     },
     "execution_count": 1,
     "metadata": {},
     "output_type": "execute_result"
    }
   ],
   "source": [
    "n = 5\n",
    "graph = [[0]*(n + 1) for _ in range(n + 1)]   \n",
    "edge = [[1, 2], [1, 3], [2, 4], [2, 5], [3, 4]]\n",
    "for a,b in edge : \n",
    "    #print(a, b)\n",
    "    graph[a][b] = 1\n",
    "    #print(graph[a])\n",
    "    \n",
    "graph"
   ]
  },
  {
   "cell_type": "code",
   "execution_count": 2,
   "id": "45d11177",
   "metadata": {},
   "outputs": [
    {
     "data": {
      "text/plain": [
       "[[0, 0, 0, 0, 0, 0],\n",
       " [0, 0, 1, 1, 0, 0],\n",
       " [0, 0, 0, 0, 1, 1],\n",
       " [0, 0, 0, 0, 1, 0],\n",
       " [0, 0, 0, 0, 0, 0],\n",
       " [0, 0, 0, 0, 0, 0]]"
      ]
     },
     "execution_count": 2,
     "metadata": {},
     "output_type": "execute_result"
    }
   ],
   "source": [
    "edge = [[1, 2], [1, 3], [2, 4], [2, 5], [3, 4]]\n",
    "for a,b in edge : \n",
    "    #print(a, b)\n",
    "    graph[a][b] = 1\n",
    "    #print(graph[a])\n",
    "    \n",
    "graph"
   ]
  },
  {
   "cell_type": "code",
   "execution_count": null,
   "id": "f1717f79",
   "metadata": {},
   "outputs": [],
   "source": []
  }
 ],
 "metadata": {
  "kernelspec": {
   "display_name": "Python 3 (ipykernel)",
   "language": "python",
   "name": "python3"
  },
  "language_info": {
   "codemirror_mode": {
    "name": "ipython",
    "version": 3
   },
   "file_extension": ".py",
   "mimetype": "text/x-python",
   "name": "python",
   "nbconvert_exporter": "python",
   "pygments_lexer": "ipython3",
   "version": "3.8.13"
  }
 },
 "nbformat": 4,
 "nbformat_minor": 5
}
