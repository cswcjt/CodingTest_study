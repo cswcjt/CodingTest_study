{
 "cells": [
  {
   "cell_type": "markdown",
   "id": "b93e0bd2",
   "metadata": {},
   "source": [
    "### 괄호문자제거 "
   ]
  },
  {
   "cell_type": "code",
   "execution_count": 1,
   "id": "6a6e20a6",
   "metadata": {},
   "outputs": [
    {
     "data": {
      "text/plain": [
       "'EFLM'"
      ]
     },
     "execution_count": 1,
     "metadata": {},
     "output_type": "execute_result"
    }
   ],
   "source": [
    "def solution(s) : \n",
    "    stack = []\n",
    "    for x in s : \n",
    "        if x == \")\" : \n",
    "            while stack.pop() != \"(\" : \n",
    "                pass\n",
    "        else : \n",
    "            stack.append(x)\n",
    "        \n",
    "    return \"\".join(stack)\n",
    "\n",
    "s = \"(A(BC)D)EF(G(H)(IJ)K)LM(N)\" \n",
    "solution(s)"
   ]
  }
 ],
 "metadata": {
  "kernelspec": {
   "display_name": "Python 3 (ipykernel)",
   "language": "python",
   "name": "python3"
  },
  "language_info": {
   "codemirror_mode": {
    "name": "ipython",
    "version": 3
   },
   "file_extension": ".py",
   "mimetype": "text/x-python",
   "name": "python",
   "nbconvert_exporter": "python",
   "pygments_lexer": "ipython3",
   "version": "3.8.13"
  }
 },
 "nbformat": 4,
 "nbformat_minor": 5
}
