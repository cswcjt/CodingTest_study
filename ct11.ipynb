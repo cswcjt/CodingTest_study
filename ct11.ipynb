{
 "cells": [
  {
   "cell_type": "markdown",
   "id": "a573fe64",
   "metadata": {},
   "source": [
    "### 버블정렬\n",
    "버블정렬은 인접한 두 자료를 비교하여 크기가 순서대로 되어 있지 않으면 두 자료를 교환하는 방법으로 정렬하는 알고리즘입니다.\n",
    "1회전이 끝나고 나면 가장 큰 자료가 맨 뒤에 위치합니다. "
   ]
  },
  {
   "cell_type": "code",
   "execution_count": 1,
   "id": "aad247d5",
   "metadata": {},
   "outputs": [
    {
     "name": "stdout",
     "output_type": "stream",
     "text": [
      "[1, 2, 3, 4, 5]\n"
     ]
    }
   ],
   "source": [
    "def solution(nums) : \n",
    "    n = len(nums)\n",
    "    for i in range(n-1) :  \n",
    "        for j in range(n-i-1) : \n",
    "            if nums[j] > nums[j+1] : \n",
    "                nums[j], nums[j+1] = nums[j+1], nums[j]\n",
    "        #print(nums)     \n",
    "        \n",
    "    return nums\n",
    "\n",
    "print(solution([5,4,2,1,3]))"
   ]
  }
 ],
 "metadata": {
  "kernelspec": {
   "display_name": "Python 3 (ipykernel)",
   "language": "python",
   "name": "python3"
  },
  "language_info": {
   "codemirror_mode": {
    "name": "ipython",
    "version": 3
   },
   "file_extension": ".py",
   "mimetype": "text/x-python",
   "name": "python",
   "nbconvert_exporter": "python",
   "pygments_lexer": "ipython3",
   "version": "3.8.13"
  }
 },
 "nbformat": 4,
 "nbformat_minor": 5
}
