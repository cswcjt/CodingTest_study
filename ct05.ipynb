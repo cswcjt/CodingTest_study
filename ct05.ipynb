{
 "cells": [
  {
   "cell_type": "markdown",
   "id": "7a476ce3",
   "metadata": {},
   "source": [
    "##### 회문 문자열\n",
    "매개변수 s에 문자열이 입력되면 해당 문자열이 회문 문자열이면 \"YES\",\n",
    "\n",
    "회문 문자열이 아니면 “NO\"를 출력하는 프로그램을 작성하세요\n",
    "\n",
    "- upper()\n",
    "- while"
   ]
  },
  {
   "cell_type": "code",
   "execution_count": 2,
   "id": "388bc303",
   "metadata": {},
   "outputs": [],
   "source": [
    "def solution(s) :\n",
    "    answer = \"YES\"\n",
    "    S = s.upper()\n",
    "    left = 0\n",
    "    right = len(s) - 1 # 인덱스는 0부터 시작. len()에 -1하는 이유!\n",
    "    while left < right :\n",
    "        if s[left] != s[right] : \n",
    "            return \"No\"\n",
    "        else : \n",
    "            left += 1\n",
    "            right -= 1\n",
    "            \n",
    "    return answer"
   ]
  },
  {
   "cell_type": "code",
   "execution_count": 3,
   "id": "ba9cc1c9",
   "metadata": {},
   "outputs": [
    {
     "data": {
      "text/plain": [
       "'YES'"
      ]
     },
     "execution_count": 3,
     "metadata": {},
     "output_type": "execute_result"
    }
   ],
   "source": [
    "solution(\"goog\")"
   ]
  },
  {
   "cell_type": "code",
   "execution_count": null,
   "id": "b804bfd8",
   "metadata": {},
   "outputs": [],
   "source": []
  }
 ],
 "metadata": {
  "kernelspec": {
   "display_name": "Python 3 (ipykernel)",
   "language": "python",
   "name": "python3"
  },
  "language_info": {
   "codemirror_mode": {
    "name": "ipython",
    "version": 3
   },
   "file_extension": ".py",
   "mimetype": "text/x-python",
   "name": "python",
   "nbconvert_exporter": "python",
   "pygments_lexer": "ipython3",
   "version": "3.8.13"
  }
 },
 "nbformat": 4,
 "nbformat_minor": 5
}
