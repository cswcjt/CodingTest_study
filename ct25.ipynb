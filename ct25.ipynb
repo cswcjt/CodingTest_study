{
 "cells": [
  {
   "cell_type": "markdown",
   "id": "c9a40c2a",
   "metadata": {},
   "source": [
    "##### 3. 가중치 방향그래프"
   ]
  },
  {
   "cell_type": "code",
   "execution_count": 3,
   "id": "76eafb9f",
   "metadata": {},
   "outputs": [
    {
     "data": {
      "text/plain": [
       "[[0, 0, 0, 0, 0, 0],\n",
       " [0, 0, 2, 4, 0, 0],\n",
       " [0, 0, 0, 0, 0, 5],\n",
       " [0, 0, 0, 0, 5, 0],\n",
       " [0, 0, 2, 0, 0, 0],\n",
       " [0, 0, 0, 0, 0, 0]]"
      ]
     },
     "execution_count": 3,
     "metadata": {},
     "output_type": "execute_result"
    }
   ],
   "source": [
    "edge = [[1, 2, 2], [1, 3, 4], [2, 5, 5], [3, 4, 5], [4, 2, 2]]\n",
    "n = len(edge)\n",
    "graph = [[0]*(n+1) for _ in range(n+1)]\n",
    "for a,b,c in edge : \n",
    "    graph[a][b] = c\n",
    "\n",
    "graph"
   ]
  }
 ],
 "metadata": {
  "kernelspec": {
   "display_name": "Python 3 (ipykernel)",
   "language": "python",
   "name": "python3"
  },
  "language_info": {
   "codemirror_mode": {
    "name": "ipython",
    "version": 3
   },
   "file_extension": ".py",
   "mimetype": "text/x-python",
   "name": "python",
   "nbconvert_exporter": "python",
   "pygments_lexer": "ipython3",
   "version": "3.8.13"
  }
 },
 "nbformat": 4,
 "nbformat_minor": 5
}
