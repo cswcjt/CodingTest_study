{
 "cells": [
  {
   "cell_type": "markdown",
   "id": "12a71847",
   "metadata": {},
   "source": [
    "##### 학급 회장\n",
    "- collections : 자동으로 딕셔너리 만들어주는 라이브러리\n",
    "- collections.Counter(str) : 갯수를 카운트해서 value 값으로 저장해준다."
   ]
  },
  {
   "cell_type": "code",
   "execution_count": 1,
   "id": "d9448399",
   "metadata": {},
   "outputs": [],
   "source": [
    "import collections \n",
    "def solution(s) : \n",
    "    answer = \"\"\n",
    "    '''    \n",
    "    dic = {}\n",
    "    for c in word : \n",
    "        if c not in dic : \n",
    "            dic[c] = 1\n",
    "        else : \n",
    "            dic[c] += 1\n",
    "    '''\n",
    "    sh = collections.Counter(s)\n",
    "    maxC = 0 \n",
    "    for key, value in sh.items() : \n",
    "        if value > maxC :\n",
    "            maxC = value\n",
    "            answer = key\n",
    "    \n",
    "    return answer"
   ]
  },
  {
   "cell_type": "code",
   "execution_count": 2,
   "id": "b9a515a8",
   "metadata": {},
   "outputs": [
    {
     "data": {
      "text/plain": [
       "'e'"
      ]
     },
     "execution_count": 2,
     "metadata": {},
     "output_type": "execute_result"
    }
   ],
   "source": [
    "solution(\"bbaaaaacccceeeeeeeeeedddddd\")"
   ]
  },
  {
   "cell_type": "code",
   "execution_count": null,
   "id": "26ce38d0",
   "metadata": {},
   "outputs": [],
   "source": []
  }
 ],
 "metadata": {
  "kernelspec": {
   "display_name": "Python 3 (ipykernel)",
   "language": "python",
   "name": "python3"
  },
  "language_info": {
   "codemirror_mode": {
    "name": "ipython",
    "version": 3
   },
   "file_extension": ".py",
   "mimetype": "text/x-python",
   "name": "python",
   "nbconvert_exporter": "python",
   "pygments_lexer": "ipython3",
   "version": "3.8.13"
  }
 },
 "nbformat": 4,
 "nbformat_minor": 5
}
