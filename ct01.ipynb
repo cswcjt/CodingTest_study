{
 "cells": [
  {
   "cell_type": "markdown",
   "id": "37dec5f1",
   "metadata": {},
   "source": [
    "##### 대소문자 변환\n",
    "대문자와  소문자가  같이  존재하는  문자열을  입력받아  대문자는  소문자로  소문자는  대문자로 변환합니다.\n",
    "- isupper()\n",
    "- upper()\n",
    "- lower()"
   ]
  },
  {
   "cell_type": "code",
   "execution_count": 1,
   "id": "9982d607",
   "metadata": {},
   "outputs": [
    {
     "name": "stdout",
     "output_type": "stream",
     "text": [
      "sTUdY\n"
     ]
    }
   ],
   "source": [
    "def solution(word) : \n",
    "    answer = \"\"\n",
    "    for cha in word :\n",
    "        if cha.isupper() == True: # 대소문자 확인\n",
    "            answer += cha.lower() \n",
    "        else :\n",
    "            answer += cha.upper()\n",
    "    return answer\n",
    "\n",
    "print(solution(\"StuDy\"))"
   ]
  },
  {
   "cell_type": "code",
   "execution_count": null,
   "id": "73340993",
   "metadata": {},
   "outputs": [],
   "source": []
  }
 ],
 "metadata": {
  "kernelspec": {
   "display_name": "Python 3 (ipykernel)",
   "language": "python",
   "name": "python3"
  },
  "language_info": {
   "codemirror_mode": {
    "name": "ipython",
    "version": 3
   },
   "file_extension": ".py",
   "mimetype": "text/x-python",
   "name": "python",
   "nbconvert_exporter": "python",
   "pygments_lexer": "ipython3",
   "version": "3.8.13"
  }
 },
 "nbformat": 4,
 "nbformat_minor": 5
}
