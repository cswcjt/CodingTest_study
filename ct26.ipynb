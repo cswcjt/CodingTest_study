{
 "cells": [
  {
   "cell_type": "markdown",
   "id": "56555be2",
   "metadata": {},
   "source": [
    "재귀함수\n",
    "##### print()의 위치가 바뀌면 결과가 다르다. \n",
    "##### 그 이유를 아는 것이 중요하다.\n",
    "##### 키워드\n",
    "    - stack frame\n",
    "    - 매개변수 \n",
    "    - 지역변수 \n",
    "    - 복귀주소 : back tracking"
   ]
  },
  {
   "cell_type": "markdown",
   "id": "c1c4a2ba",
   "metadata": {},
   "source": [
    "##### 1) back tracking: print() 위에 쓰는 경우\n",
    "    - DFS(3) -> 라인 5에 도착 -> print() 실행 -> sleep 상태로 빠짐 : 잠정중단 -> stack에 쌓인다.\n",
    "    - DFS(2) -> 라인 5에 도착 -> print() 실행 -> sleep 상태로 빠짐 : 잠정중단 -> stack에 쌓인다.\n",
    "    - DFS(1) -> 라인 5에 도착 -> print() 실행 -> sleep 상태로 빠짐 : 잠정중단 -> stack에 쌓인다.\n",
    "    - DFS(0) -> if 조건 충족 -> return 실행 -> DFS(0)은 pop으로 사라짐 -> DFS(0) 이전에 잠정중단 된 순서대로 실행하고 \n",
    "    pop으로 지워지면서 사라진다. "
   ]
  },
  {
   "cell_type": "code",
   "execution_count": 2,
   "id": "1da02982",
   "metadata": {},
   "outputs": [
    {
     "name": "stdout",
     "output_type": "stream",
     "text": [
      "3 2 1 "
     ]
    }
   ],
   "source": [
    "def DFS(n):\n",
    "    if n == 0:\n",
    "        return \n",
    "    else:\n",
    "        print(n, end=\" \")\n",
    "        DFS(n-1)\n",
    "DFS(3)"
   ]
  }
 ],
 "metadata": {
  "kernelspec": {
   "display_name": "Python 3 (ipykernel)",
   "language": "python",
   "name": "python3"
  },
  "language_info": {
   "codemirror_mode": {
    "name": "ipython",
    "version": 3
   },
   "file_extension": ".py",
   "mimetype": "text/x-python",
   "name": "python",
   "nbconvert_exporter": "python",
   "pygments_lexer": "ipython3",
   "version": "3.8.13"
  }
 },
 "nbformat": 4,
 "nbformat_minor": 5
}
