{
  "cells": [
    {
      "cell_type": "markdown",
      "metadata": {
        "id": "view-in-github",
        "colab_type": "text"
      },
      "source": [
        "<a href=\"https://colab.research.google.com/github/cswcjt/CodingTest_study/blob/main/ct30.ipynb\" target=\"_parent\"><img src=\"https://colab.research.google.com/assets/colab-badge.svg\" alt=\"Open In Colab\"/></a>"
      ]
    },
    {
      "cell_type": "markdown",
      "id": "959d8ede",
      "metadata": {
        "id": "959d8ede"
      },
      "source": [
        "### 컴퓨터 개수 \n",
        "- 블러드필\n",
        "    - if, else 필요없다.\n",
        "    - ch = 0 필요없다."
      ]
    },
    {
      "cell_type": "code",
      "execution_count": null,
      "id": "cf44bebf",
      "metadata": {
        "id": "cf44bebf"
      },
      "outputs": [],
      "source": [
        "cnt = 0\n",
        "def DFS(v, n, ch, graph):\n",
        "    global cnt\n",
        "    cnt += 1\n",
        "    for nv in graph[v]:\n",
        "        if ch[nv] == 0:\n",
        "            ch[nv] = 1\n",
        "            DFS(nv, n, ch, graph)\n",
        "\n",
        "\n",
        "def solution(n, edge):\n",
        "    global cnt\n",
        "    graph = [[] for _ in range(n+1)]\n",
        "    for a, b in edge:\n",
        "        graph[a].append(b)\n",
        "        graph[b].append(a)\n",
        "        \n",
        "    ch = [0] * (n+1)\n",
        "    ch[1] = 1\n",
        "    DFS(1, n, ch, graph)\n",
        "    return n - cnt"
      ]
    },
    {
      "cell_type": "code",
      "execution_count": null,
      "id": "e5a694e5",
      "metadata": {
        "id": "e5a694e5",
        "outputId": "7b137c70-60e8-440e-95a9-62b7244cf05c"
      },
      "outputs": [
        {
          "data": {
            "text/plain": [
              "5"
            ]
          },
          "execution_count": 2,
          "metadata": {},
          "output_type": "execute_result"
        }
      ],
      "source": [
        "solution(11, [[1, 2], [1, 4], [2, 3], [4, 5], [5, 6], [7, 8], [7, 10], [8, 9], [10, 11]])"
      ]
    },
    {
      "cell_type": "code",
      "execution_count": null,
      "id": "db845276",
      "metadata": {
        "id": "db845276"
      },
      "outputs": [],
      "source": []
    }
  ],
  "metadata": {
    "kernelspec": {
      "display_name": "Python 3 (ipykernel)",
      "language": "python",
      "name": "python3"
    },
    "language_info": {
      "codemirror_mode": {
        "name": "ipython",
        "version": 3
      },
      "file_extension": ".py",
      "mimetype": "text/x-python",
      "name": "python",
      "nbconvert_exporter": "python",
      "pygments_lexer": "ipython3",
      "version": "3.8.13"
    },
    "colab": {
      "provenance": [],
      "include_colab_link": true
    }
  },
  "nbformat": 4,
  "nbformat_minor": 5
}