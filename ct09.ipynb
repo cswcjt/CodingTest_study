{
 "cells": [
  {
   "cell_type": "markdown",
   "id": "e37e95a3",
   "metadata": {},
   "source": [
    "##### 빈도수가 1인 가장 큰 숫자\n",
    "- collections.Counter(nums)\n",
    "- for i in range(m, 0, -1)\n",
    "- 로직 \n",
    "    - 리스트 값을 딕셔너리에 key값으로 넣는다. \n",
    "    - collections.Counter(nums)를 사용해서 리스트 원소의 갯수를 카운트해서 value로 저장한다.\n",
    "    - 가장 큰 숫자를 찾아야하니까 뒤에서 부터 찾는다.  \n",
    "   \n",
    "   \n",
    "- 기억할 점 \n",
    "    - 딕셔너리는 key값이 없으면 기본으로 0을 반환한다. "
   ]
  },
  {
   "cell_type": "code",
   "execution_count": 1,
   "id": "26be8cc7",
   "metadata": {},
   "outputs": [],
   "source": [
    "import collections\n",
    "def solution(nums) : \n",
    "    sh = collections.Counter(nums)\n",
    "    maxC = max(sh)\n",
    "    for i in range(maxC, 0, -1) : # 여기서 i는 dic의 key값이고, 이때 key값의 시작은 maxC. maxC 기준으로 거꾸로 간다.  \n",
    "        if sh[i] == 1 : # sh[i]의 value가 1이면 그 때의 key을 반환한다.  \n",
    "            return i\n",
    "        \n",
    "    return -1"
   ]
  },
  {
   "cell_type": "code",
   "execution_count": 2,
   "id": "c3853a94",
   "metadata": {},
   "outputs": [
    {
     "name": "stdout",
     "output_type": "stream",
     "text": [
      "-1\n"
     ]
    }
   ],
   "source": [
    "print(solution([3, 8, 3, 3, 5, 1, 1, 1, 7, 2, 2, 8, 7, 5]))"
   ]
  },
  {
   "cell_type": "code",
   "execution_count": null,
   "id": "60658517",
   "metadata": {},
   "outputs": [],
   "source": []
  }
 ],
 "metadata": {
  "kernelspec": {
   "display_name": "Python 3 (ipykernel)",
   "language": "python",
   "name": "python3"
  },
  "language_info": {
   "codemirror_mode": {
    "name": "ipython",
    "version": 3
   },
   "file_extension": ".py",
   "mimetype": "text/x-python",
   "name": "python",
   "nbconvert_exporter": "python",
   "pygments_lexer": "ipython3",
   "version": "3.8.13"
  }
 },
 "nbformat": 4,
 "nbformat_minor": 5
}
