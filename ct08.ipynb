{
 "cells": [
  {
   "cell_type": "markdown",
   "id": "db942b5a",
   "metadata": {},
   "source": [
    "##### 한번 사용한 최초 문자\n",
    "- collections.Counter(str) : 갯수를 카운트해서 value 값으로 저장해준다."
   ]
  },
  {
   "cell_type": "code",
   "execution_count": 1,
   "id": "6fa54b66",
   "metadata": {},
   "outputs": [],
   "source": [
    "import collections\n",
    "def solution(s) : \n",
    "    answer = -1\n",
    "    sH = collections.Counter(s) \n",
    "    print(sH)\n",
    "    for i in range(len(s)) : \n",
    "        if sH[s[i]] == 1 :\n",
    "            return i + 1\n",
    "            \n",
    "    return answer"
   ]
  },
  {
   "cell_type": "code",
   "execution_count": 2,
   "id": "9966c0d0",
   "metadata": {},
   "outputs": [
    {
     "name": "stdout",
     "output_type": "stream",
     "text": [
      "Counter({'s': 2, 't': 2, 'i': 2, 'r': 1, 'n': 1, 'g': 1, 'h': 1, 'o': 1, 'w': 1, 'm': 1, 'e': 1})\n",
      "3\n"
     ]
    }
   ],
   "source": [
    "print(solution(\"stringshowtime\"))"
   ]
  },
  {
   "cell_type": "code",
   "execution_count": null,
   "id": "fc012b6b",
   "metadata": {},
   "outputs": [],
   "source": []
  }
 ],
 "metadata": {
  "kernelspec": {
   "display_name": "Python 3 (ipykernel)",
   "language": "python",
   "name": "python3"
  },
  "language_info": {
   "codemirror_mode": {
    "name": "ipython",
    "version": 3
   },
   "file_extension": ".py",
   "mimetype": "text/x-python",
   "name": "python",
   "nbconvert_exporter": "python",
   "pygments_lexer": "ipython3",
   "version": "3.8.13"
  }
 },
 "nbformat": 4,
 "nbformat_minor": 5
}
