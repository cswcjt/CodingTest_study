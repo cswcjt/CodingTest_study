{
 "cells": [
  {
   "cell_type": "markdown",
   "id": "56fa6101",
   "metadata": {},
   "source": [
    "### 스택 자료구조\n",
    "1. 스택(stack)의 개념\n",
    "\n",
    "\n",
    "한 쪽 끝에서만 자료를 넣고 뺄수 있는 LIFO(Last In First Out) 형식의 자료 구조이다. \n",
    "즉, 가장 최근에 스택에 추가한 항목이 가장 먼저 제거되는 자료구조이다. \n",
    "\n",
    "2. 스택의 연산(자바 기준)\n",
    "\n",
    "\n",
    "1) push(item) : item 하나를 스택의 가장 윗 부분에 추가한다. \n",
    "\n",
    "\n",
    "2) pop() : 스택에서 가장 위에 있는 항목을 제거한다. \n",
    "\n",
    "\n",
    "3) peek() : 스택의 가장 위에 있는 항목을 반환한다.\n",
    "\n",
    "\n",
    "4) empty() : 스택이 비어 있을 때에 True를 반환한다."
   ]
  },
  {
   "cell_type": "code",
   "execution_count": 5,
   "id": "b9577cc4",
   "metadata": {},
   "outputs": [],
   "source": [
    "def solution(s) : \n",
    "    answer = \"YES\"\n",
    "    stack = []\n",
    "    for i in range(len(s)) : \n",
    "        if s[i] == \"(\" : \n",
    "            stack.append(s[i])\n",
    "            \n",
    "        else : \n",
    "            if len(stack) != 0 : \n",
    "                stack.pop()\n",
    "            else : \n",
    "                return \"NO\"\n",
    "    \n",
    "    if len(stack) == 0 : \n",
    "         return answer\n"
   ]
  },
  {
   "cell_type": "code",
   "execution_count": null,
   "id": "42a165ea",
   "metadata": {},
   "outputs": [],
   "source": []
  }
 ],
 "metadata": {
  "kernelspec": {
   "display_name": "Python 3 (ipykernel)",
   "language": "python",
   "name": "python3"
  },
  "language_info": {
   "codemirror_mode": {
    "name": "ipython",
    "version": 3
   },
   "file_extension": ".py",
   "mimetype": "text/x-python",
   "name": "python",
   "nbconvert_exporter": "python",
   "pygments_lexer": "ipython3",
   "version": "3.8.13"
  }
 },
 "nbformat": 4,
 "nbformat_minor": 5
}
