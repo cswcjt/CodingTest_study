{
 "cells": [
  {
   "cell_type": "markdown",
   "id": "942b8028",
   "metadata": {},
   "source": [
    "### 선택정렬\n",
    "선택정렬은 첫 번째 자료 위치에 첫 번째 자료부터 마지막 자료까지에서 가장 작은 값을 위치\n",
    "시키고 두 번째 자료 위치에 두 번째 자료부터 마지막 자료까지에서 가장 작은 값을 위치시,\n",
    "키는 이 과정을 계속 반복해서 오름차순 정렬을 시키는 정렬방법입니다."
   ]
  },
  {
   "cell_type": "code",
   "execution_count": 2,
   "id": "e6afbfe3",
   "metadata": {},
   "outputs": [
    {
     "data": {
      "text/plain": [
       "[0, 1, 2, 3, 4, 5, 7]"
      ]
     },
     "execution_count": 2,
     "metadata": {},
     "output_type": "execute_result"
    }
   ],
   "source": [
    "def a(nums) : \n",
    "    n = len(nums)\n",
    "    for i in range(n-1) : # 시작점 : n-1까지 탐색\n",
    "        start = i\n",
    "        for j in range(i+1, n) : # 비교점 : 시작점 다음부터 n까지 탐색\n",
    "            if nums[start] > nums[j] : \n",
    "                (nums[start], nums[j]) = (nums[j], nums[start])\n",
    "                \n",
    "    return nums\n",
    "\n",
    "a([5,4,2,1,3,0,7])"
   ]
  },
  {
   "cell_type": "code",
   "execution_count": null,
   "id": "d0a40c58",
   "metadata": {},
   "outputs": [],
   "source": []
  }
 ],
 "metadata": {
  "kernelspec": {
   "display_name": "Python 3 (ipykernel)",
   "language": "python",
   "name": "python3"
  },
  "language_info": {
   "codemirror_mode": {
    "name": "ipython",
    "version": 3
   },
   "file_extension": ".py",
   "mimetype": "text/x-python",
   "name": "python",
   "nbconvert_exporter": "python",
   "pygments_lexer": "ipython3",
   "version": "3.8.13"
  }
 },
 "nbformat": 4,
 "nbformat_minor": 5
}
