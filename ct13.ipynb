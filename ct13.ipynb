{
 "cells": [
  {
   "cell_type": "markdown",
   "id": "ee98f5e1",
   "metadata": {},
   "source": [
    "### 순서 몇 번 바뀌는지 확인하는 코드(선택정렬 기준)"
   ]
  },
  {
   "cell_type": "code",
   "execution_count": 1,
   "id": "7d507b71",
   "metadata": {},
   "outputs": [
    {
     "name": "stdout",
     "output_type": "stream",
     "text": [
      "[1, 1, 2, 2, 2]\n"
     ]
    }
   ],
   "source": [
    "def solution(nums) : \n",
    "    n = len(nums)\n",
    "    answer = [ 0 for x in range(len(nums))]\n",
    "    \n",
    "    for i in range(n - 1) : # n-2까지 돈다\n",
    "        minindex = i \n",
    "        for j in range(i + 1, n) : \n",
    "            if nums[minindex] > nums[j] : \n",
    "                minindex = j\n",
    "        \n",
    "        if i != minindex :\n",
    "            nums[i], nums[minindex] = nums[minindex], nums[i] \n",
    "            answer[i] += 1\n",
    "            answer[minindex] += 1\n",
    "                \n",
    "    return answer\n",
    "\n",
    "print(solution([5,4,2,1,3]))"
   ]
  }
 ],
 "metadata": {
  "kernelspec": {
   "display_name": "Python 3 (ipykernel)",
   "language": "python",
   "name": "python3"
  },
  "language_info": {
   "codemirror_mode": {
    "name": "ipython",
    "version": 3
   },
   "file_extension": ".py",
   "mimetype": "text/x-python",
   "name": "python",
   "nbconvert_exporter": "python",
   "pygments_lexer": "ipython3",
   "version": "3.8.13"
  }
 },
 "nbformat": 4,
 "nbformat_minor": 5
}
