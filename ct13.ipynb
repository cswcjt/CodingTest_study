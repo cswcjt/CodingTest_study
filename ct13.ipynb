{
 "cells": [
  {
   "cell_type": "markdown",
   "id": "799a7019",
   "metadata": {},
   "source": [
    "### 최대 매출\n",
    "- 슬라이딩 윈도우 알고리즘 사용 --> 이중 for문의 대안책"
   ]
  },
  {
   "cell_type": "code",
   "execution_count": 13,
   "id": "0d60e945",
   "metadata": {},
   "outputs": [],
   "source": [
    "def solution(nums, K) : \n",
    "    answer = 0 \n",
    "    sumM = 0\n",
    "    for i in range(K) : \n",
    "        sumM += nums[i]\n",
    "    \n",
    "    answer = sumM\n",
    "    left = 0\n",
    "    for right in range(K, len(nums)) : \n",
    "        sumM += (nums[right] - nums[left])\n",
    "        left += 1\n",
    "#         if sumM > answer : \n",
    "#             answer = sumM \n",
    "        answer = max(answer, sumM)\n",
    "    \n",
    "    return answer"
   ]
  },
  {
   "cell_type": "code",
   "execution_count": 14,
   "id": "22a327d5",
   "metadata": {},
   "outputs": [
    {
     "data": {
      "text/plain": [
       "56"
      ]
     },
     "execution_count": 14,
     "metadata": {},
     "output_type": "execute_result"
    }
   ],
   "source": [
    "solution([12, 15, 11, 20, 25, 10, 20, 19, 13, 15], 3)"
   ]
  }
 ],
 "metadata": {
  "kernelspec": {
   "display_name": "Python 3 (ipykernel)",
   "language": "python",
   "name": "python3"
  },
  "language_info": {
   "codemirror_mode": {
    "name": "ipython",
    "version": 3
   },
   "file_extension": ".py",
   "mimetype": "text/x-python",
   "name": "python",
   "nbconvert_exporter": "python",
   "pygments_lexer": "ipython3",
   "version": "3.8.13"
  }
 },
 "nbformat": 4,
 "nbformat_minor": 5
}
