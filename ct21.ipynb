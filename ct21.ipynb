{
 "cells": [
  {
   "cell_type": "markdown",
   "id": "fb2189b9",
   "metadata": {},
   "source": [
    "### 카드 가져가기"
   ]
  },
  {
   "cell_type": "code",
   "execution_count": 1,
   "id": "a3487886",
   "metadata": {},
   "outputs": [
    {
     "data": {
      "text/plain": [
       "17"
      ]
     },
     "execution_count": 1,
     "metadata": {},
     "output_type": "execute_result"
    }
   ],
   "source": [
    "def solution(nums, k):\n",
    "    answer = sum(nums)\n",
    "    r = len(nums) - k\n",
    "    sumM = 0\n",
    "    minS = 1000000000\n",
    "    for i in range(r):\n",
    "        sumM += nums[i]\n",
    "    minS = sumM\n",
    "    left = 0\n",
    "    for right in range(r, len(nums)):\n",
    "        sumM += (nums[right] - nums[left])\n",
    "        minS = min(minS, sumM)\n",
    "        left += 1\n",
    "               \n",
    "    return answer-minS\n",
    "\n",
    "solution([2, 3, 7, 1, 2, 1, 5], 4)"
   ]
  },
  {
   "cell_type": "code",
   "execution_count": null,
   "id": "aa8b4e1b",
   "metadata": {},
   "outputs": [],
   "source": []
  }
 ],
 "metadata": {
  "kernelspec": {
   "display_name": "Python 3 (ipykernel)",
   "language": "python",
   "name": "python3"
  },
  "language_info": {
   "codemirror_mode": {
    "name": "ipython",
    "version": 3
   },
   "file_extension": ".py",
   "mimetype": "text/x-python",
   "name": "python",
   "nbconvert_exporter": "python",
   "pygments_lexer": "ipython3",
   "version": "3.8.13"
  }
 },
 "nbformat": 4,
 "nbformat_minor": 5
}
