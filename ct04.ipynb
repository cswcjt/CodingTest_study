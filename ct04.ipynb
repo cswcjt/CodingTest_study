{
 "cells": [
  {
   "cell_type": "markdown",
   "id": "5926a36f",
   "metadata": {},
   "source": [
    "##### 공통문자열\n",
    "N개의  문자열이  주어지면  이  문자열들의  최대  공통  접두사를  출력하는  프로그램을  작성하세요. \n",
    "- set()"
   ]
  },
  {
   "cell_type": "code",
   "execution_count": 24,
   "id": "440d9a5c",
   "metadata": {},
   "outputs": [],
   "source": [
    "def solution(word_list) : \n",
    "    answer = \"\"\n",
    "    for i in range(len(word_list[0])) : \n",
    "        common = set()\n",
    "        for word in word_list : \n",
    "            common.add(word[i])\n",
    "        if len(common) == 1 :\n",
    "            answer += word_list[0][i]\n",
    "    return answer"
   ]
  },
  {
   "cell_type": "code",
   "execution_count": 26,
   "id": "b52d12fa",
   "metadata": {},
   "outputs": [
    {
     "data": {
      "text/plain": [
       "''"
      ]
     },
     "execution_count": 26,
     "metadata": {},
     "output_type": "execute_result"
    }
   ],
   "source": [
    "solution([\"asd\", \"wer\", \"hkj\"])\n",
    "#solution([\"lengi\", \"lengi\", \"lenti\"])"
   ]
  },
  {
   "cell_type": "code",
   "execution_count": null,
   "id": "afc7c70f",
   "metadata": {},
   "outputs": [],
   "source": []
  }
 ],
 "metadata": {
  "kernelspec": {
   "display_name": "Python 3 (ipykernel)",
   "language": "python",
   "name": "python3"
  },
  "language_info": {
   "codemirror_mode": {
    "name": "ipython",
    "version": 3
   },
   "file_extension": ".py",
   "mimetype": "text/x-python",
   "name": "python",
   "nbconvert_exporter": "python",
   "pygments_lexer": "ipython3",
   "version": "3.8.13"
  }
 },
 "nbformat": 4,
 "nbformat_minor": 5
}
