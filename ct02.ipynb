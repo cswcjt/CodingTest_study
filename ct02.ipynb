{
 "cells": [
  {
   "cell_type": "markdown",
   "id": "cae28a45",
   "metadata": {},
   "source": [
    "##### 공통문자열\n",
    "N개의  문자열이  주어지면  이  문자열들의  최대  공통  접두사를  출력하는  프로그램을  작성하세요. \n",
    "- set()"
   ]
  },
  {
   "cell_type": "code",
   "execution_count": 2,
   "id": "cc37bc3d",
   "metadata": {},
   "outputs": [
    {
     "data": {
      "text/plain": [
       "'leni'"
      ]
     },
     "execution_count": 2,
     "metadata": {},
     "output_type": "execute_result"
    }
   ],
   "source": [
    "def solution(word_list) : \n",
    "    answer = \"\"\n",
    "    for i in range(len(word_list[0])) : \n",
    "        common = set()\n",
    "        for word in word_list : \n",
    "            common.add(word[i])\n",
    "        if len(common) == 1 :\n",
    "            answer += word_list[0][i]\n",
    "    return answer\n",
    "\n",
    "solution([\"lengi\", \"lengi\", \"lenti\"])"
   ]
  }
 ],
 "metadata": {
  "kernelspec": {
   "display_name": "Python 3 (ipykernel)",
   "language": "python",
   "name": "python3"
  },
  "language_info": {
   "codemirror_mode": {
    "name": "ipython",
    "version": 3
   },
   "file_extension": ".py",
   "mimetype": "text/x-python",
   "name": "python",
   "nbconvert_exporter": "python",
   "pygments_lexer": "ipython3",
   "version": "3.8.13"
  }
 },
 "nbformat": 4,
 "nbformat_minor": 5
}
