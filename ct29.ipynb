{
  "cells": [
    {
      "cell_type": "markdown",
      "metadata": {
        "id": "view-in-github",
        "colab_type": "text"
      },
      "source": [
        "<a href=\"https://colab.research.google.com/github/cswcjt/CodingTest_study/blob/main/ct29.ipynb\" target=\"_parent\"><img src=\"https://colab.research.google.com/assets/colab-badge.svg\" alt=\"Open In Colab\"/></a>"
      ]
    },
    {
      "cell_type": "markdown",
      "id": "d5eed3b8",
      "metadata": {
        "id": "d5eed3b8"
      },
      "source": [
        "### 경로 탐색(인접행렬)"
      ]
    },
    {
      "cell_type": "code",
      "execution_count": null,
      "id": "03b0a1d6",
      "metadata": {
        "id": "03b0a1d6"
      },
      "outputs": [],
      "source": [
        "answer = 0\n",
        "path = []\n",
        "def DFS(v, n, ch, graph) : \n",
        "    global answer\n",
        "    \n",
        "    # if에는 종료에 대한 조건을 설정한다.\n",
        "    if v == n : \n",
        "        answer += 1\n",
        "        print(path)\n",
        "    # else에 동작의 논리를 정한다. \n",
        "    else : \n",
        "        for i in range(1, n + 1) : \n",
        "            if graph[v][i] == 1 and ch[i] == 0 : \n",
        "                ch[i] = 1\n",
        "                path.append(i)\n",
        "                DFS(i, n, ch, graph) \n",
        "                ch[i] = 0 \n",
        "                path.pop()\n",
        "                \n",
        "def solution(n, edge) : # 방향그래프인 경우 \n",
        "    global answer\n",
        "    graph = [[0]*(n+1) for _ in range(n + 1)]\n",
        "    \n",
        "    for a, b in edge :\n",
        "        graph[a][b] = 1\n",
        "    \n",
        "    ch = [0]*(n+1)\n",
        "    ch[1] = 1\n",
        "    DFS(1, n, ch, graph)\n",
        "    \n",
        "    return answer"
      ]
    },
    {
      "cell_type": "code",
      "execution_count": null,
      "id": "2da8b360",
      "metadata": {
        "id": "2da8b360",
        "outputId": "dd4d83ea-f58c-4850-f8de-a75cb054cefa"
      },
      "outputs": [
        {
          "name": "stdout",
          "output_type": "stream",
          "text": [
            "[2, 3, 4, 5]\n",
            "[2, 5]\n",
            "[3, 4, 2, 5]\n",
            "[3, 4, 5]\n",
            "[4, 2, 5]\n",
            "[4, 5]\n"
          ]
        },
        {
          "data": {
            "text/plain": [
              "6"
            ]
          },
          "execution_count": 2,
          "metadata": {},
          "output_type": "execute_result"
        }
      ],
      "source": [
        "solution(5, [[1, 2], [1, 3], [1, 4], [2, 1], [2, 3], [2, 5], [3, 4], [4, 2], [4, 5]])"
      ]
    }
  ],
  "metadata": {
    "kernelspec": {
      "display_name": "Python 3 (ipykernel)",
      "language": "python",
      "name": "python3"
    },
    "language_info": {
      "codemirror_mode": {
        "name": "ipython",
        "version": 3
      },
      "file_extension": ".py",
      "mimetype": "text/x-python",
      "name": "python",
      "nbconvert_exporter": "python",
      "pygments_lexer": "ipython3",
      "version": "3.8.13"
    },
    "colab": {
      "provenance": [],
      "include_colab_link": true
    }
  },
  "nbformat": 4,
  "nbformat_minor": 5
}