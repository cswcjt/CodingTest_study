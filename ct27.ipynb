{
 "cells": [
  {
   "cell_type": "markdown",
   "id": "fb989891",
   "metadata": {},
   "source": [
    "##### 2) back tracking: print() 뒤에 쓰는 경우"
   ]
  },
  {
   "cell_type": "code",
   "execution_count": 1,
   "id": "4bed1bbb",
   "metadata": {},
   "outputs": [
    {
     "name": "stdout",
     "output_type": "stream",
     "text": [
      "1 2 3 "
     ]
    }
   ],
   "source": [
    "def DFS(n):\n",
    "    if n == 0:\n",
    "        return \n",
    "    else:\n",
    "        DFS(n-1)\n",
    "        print(n, end=\" \")\n",
    "        \n",
    "DFS(3)"
   ]
  }
 ],
 "metadata": {
  "kernelspec": {
   "display_name": "Python 3 (ipykernel)",
   "language": "python",
   "name": "python3"
  },
  "language_info": {
   "codemirror_mode": {
    "name": "ipython",
    "version": 3
   },
   "file_extension": ".py",
   "mimetype": "text/x-python",
   "name": "python",
   "nbconvert_exporter": "python",
   "pygments_lexer": "ipython3",
   "version": "3.8.13"
  }
 },
 "nbformat": 4,
 "nbformat_minor": 5
}
