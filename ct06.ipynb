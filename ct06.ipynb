{
 "cells": [
  {
   "cell_type": "markdown",
   "id": "396d5793",
   "metadata": {},
   "source": [
    "##### 보이는 학생\n",
    "- 앞 사람보다 뒷 사람의 키가 클 때만 보인다고 가정."
   ]
  },
  {
   "cell_type": "code",
   "execution_count": 1,
   "id": "1b43dad2",
   "metadata": {},
   "outputs": [],
   "source": [
    "def solution(nums) : \n",
    "    seen = 1 # 첫 번째 키는 무조건 보이니까 answer를 1부터 시작한다.\n",
    "    maxH = nums[0] # max값을 첫 번째 키로 지정한다. \n",
    "    for i in range(1, len(nums)) : # 위에 논리에 따라 range를 1부터 시작\n",
    "        if nums[i] > maxH : # num[i]가 maxH보다 클 때\n",
    "            seen += 1 # seen이 증가된다.\n",
    "            maxH = nums[i] # maxH값 바꿔준다. \n",
    "            \n",
    "    return seen"
   ]
  },
  {
   "cell_type": "code",
   "execution_count": 2,
   "id": "612ab854",
   "metadata": {},
   "outputs": [
    {
     "data": {
      "text/plain": [
       "5"
      ]
     },
     "execution_count": 2,
     "metadata": {},
     "output_type": "execute_result"
    }
   ],
   "source": [
    "solution([130, 135, 148, 140, 145, 150, 150, 153])"
   ]
  },
  {
   "cell_type": "code",
   "execution_count": null,
   "id": "7a8bfca6",
   "metadata": {},
   "outputs": [],
   "source": []
  }
 ],
 "metadata": {
  "kernelspec": {
   "display_name": "Python 3 (ipykernel)",
   "language": "python",
   "name": "python3"
  },
  "language_info": {
   "codemirror_mode": {
    "name": "ipython",
    "version": 3
   },
   "file_extension": ".py",
   "mimetype": "text/x-python",
   "name": "python",
   "nbconvert_exporter": "python",
   "pygments_lexer": "ipython3",
   "version": "3.8.13"
  }
 },
 "nbformat": 4,
 "nbformat_minor": 5
}
