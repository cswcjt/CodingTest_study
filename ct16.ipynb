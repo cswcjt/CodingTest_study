{
 "cells": [
  {
   "cell_type": "markdown",
   "id": "5778ca5b",
   "metadata": {},
   "source": [
    "### 회의장 배정"
   ]
  },
  {
   "cell_type": "code",
   "execution_count": 1,
   "id": "03f635b9",
   "metadata": {},
   "outputs": [
    {
     "data": {
      "text/plain": [
       "3"
      ]
     },
     "execution_count": 1,
     "metadata": {},
     "output_type": "execute_result"
    }
   ],
   "source": [
    "def solution(meeting) : \n",
    "    et = 0 # 처음 끝나는 시간을 0으로 설정\n",
    "    answer = 0\n",
    "    meeting.sort(key = lambda v : (v[1], v[0])) # 끝나는 시간 기준으로 정렬, 만약 끝나는 시간이 같으면 시작시간을 기준으로 삼는다.\n",
    "    #print(meeting)\n",
    "                 \n",
    "    for x in meeting : \n",
    "        if x[0] >= et :\n",
    "            et = x[1] \n",
    "            answer += 1\n",
    "        \n",
    "    return answer  \n",
    "\n",
    "solution([[1, 4], [2, 3], [3, 5], [4, 6], [5, 7]])"
   ]
  }
 ],
 "metadata": {
  "kernelspec": {
   "display_name": "Python 3 (ipykernel)",
   "language": "python",
   "name": "python3"
  },
  "language_info": {
   "codemirror_mode": {
    "name": "ipython",
    "version": 3
   },
   "file_extension": ".py",
   "mimetype": "text/x-python",
   "name": "python",
   "nbconvert_exporter": "python",
   "pygments_lexer": "ipython3",
   "version": "3.8.13"
  }
 },
 "nbformat": 4,
 "nbformat_minor": 5
}
