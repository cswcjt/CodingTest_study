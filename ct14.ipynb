{
 "cells": [
  {
   "cell_type": "markdown",
   "id": "ee71f6f6",
   "metadata": {},
   "source": [
    "### 카드가져가기 : 그리디 알고리즘"
   ]
  },
  {
   "cell_type": "code",
   "execution_count": 2,
   "id": "e2cb29e3",
   "metadata": {},
   "outputs": [
    {
     "name": "stdout",
     "output_type": "stream",
     "text": [
      "[9, 9, 8, 7, 5, 3, 3, 1, 1, 1]\n"
     ]
    },
    {
     "data": {
      "text/plain": [
       "25"
      ]
     },
     "execution_count": 2,
     "metadata": {},
     "output_type": "execute_result"
    }
   ],
   "source": [
    "def solution(nums, k) : \n",
    "    nums.sort(reverse = True)\n",
    "    print(nums)\n",
    "    n = len(nums)\n",
    "    answer = 0\n",
    "    diff = []\n",
    "    for i in range(1, n, 2) :\n",
    "        answer += nums[i]\n",
    "        diff.append(nums[i-1] - nums[i])\n",
    "    \n",
    "    diff.sort(reverse = True)\n",
    "    for i in range(k) : \n",
    "        answer += diff[i]\n",
    "        \n",
    "    return answer\n",
    "\n",
    "nums = [7, 8, 5, 9, 3, 1, 3, 1, 1, 9]\n",
    "solution(nums, k = 2)"
   ]
  }
 ],
 "metadata": {
  "kernelspec": {
   "display_name": "Python 3 (ipykernel)",
   "language": "python",
   "name": "python3"
  },
  "language_info": {
   "codemirror_mode": {
    "name": "ipython",
    "version": 3
   },
   "file_extension": ".py",
   "mimetype": "text/x-python",
   "name": "python",
   "nbconvert_exporter": "python",
   "pygments_lexer": "ipython3",
   "version": "3.8.13"
  }
 },
 "nbformat": 4,
 "nbformat_minor": 5
}
