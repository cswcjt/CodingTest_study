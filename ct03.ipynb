{
 "cells": [
  {
   "cell_type": "markdown",
   "id": "215e58ae",
   "metadata": {},
   "source": [
    "##### 중복문자 제거\n",
    "소문자로 된 한개의 문자열이 입력되면 중복된 문자를 제거하려고 합니다.\n",
    "- find()"
   ]
  },
  {
   "cell_type": "code",
   "execution_count": 2,
   "id": "96ced23c",
   "metadata": {},
   "outputs": [
    {
     "data": {
      "text/plain": [
       "'stek'"
      ]
     },
     "execution_count": 2,
     "metadata": {},
     "output_type": "execute_result"
    }
   ],
   "source": [
    "def solution(word) : \n",
    "    answer = \"\"\n",
    "    for i in range(len(word)) : \n",
    "        if word.find(word[i]) == i : \n",
    "            answer += word[i]\n",
    "    return answer\n",
    "\n",
    "solution(\"sssssttessskssee\")"
   ]
  }
 ],
 "metadata": {
  "kernelspec": {
   "display_name": "Python 3 (ipykernel)",
   "language": "python",
   "name": "python3"
  },
  "language_info": {
   "codemirror_mode": {
    "name": "ipython",
    "version": 3
   },
   "file_extension": ".py",
   "mimetype": "text/x-python",
   "name": "python",
   "nbconvert_exporter": "python",
   "pygments_lexer": "ipython3",
   "version": "3.8.13"
  }
 },
 "nbformat": 4,
 "nbformat_minor": 5
}
